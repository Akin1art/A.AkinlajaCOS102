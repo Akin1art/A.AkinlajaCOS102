{
 "cells": [
  {
   "cell_type": "code",
   "execution_count": null,
   "id": "70ab44a2-ad76-49b8-94b8-8d0802bf600f",
   "metadata": {},
   "outputs": [],
   "source": [
    "import math\n",
    "\n",
    "class Coil:\n",
    "    def __init__(self, number_of_turns, current, area, magnetic_field):\n",
    "        self.n = number_of_turns\n",
    "        self.I = current\n",
    "        self.A = area\n",
    "        self.B = magnetic_field\n",
    "\n",
    "    def calculate_torque(self, angle_degrees):\n",
    "        "
   ]
  }
 ],
 "metadata": {
  "kernelspec": {
   "display_name": "Python [conda env:base] *",
   "language": "python",
   "name": "conda-base-py"
  },
  "language_info": {
   "codemirror_mode": {
    "name": "ipython",
    "version": 3
   },
   "file_extension": ".py",
   "mimetype": "text/x-python",
   "name": "python",
   "nbconvert_exporter": "python",
   "pygments_lexer": "ipython3",
   "version": "3.12.7"
  }
 },
 "nbformat": 4,
 "nbformat_minor": 5
}
