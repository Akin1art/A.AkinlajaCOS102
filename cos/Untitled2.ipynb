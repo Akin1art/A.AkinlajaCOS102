{
 "cells": [
  {
   "cell_type": "code",
   "execution_count": 2,
   "id": "e7369bdc-aede-4160-ab02-e2b3ce2c5f98",
   "metadata": {},
   "outputs": [],
   "source": [
    "import tkinter as tk\n",
    "from tkinter import messagebox\n",
    "import numpy as np\n",
    "\n",
    "def calculate_14_5():\n",
    "    try:\n",
    "        # Get inputs\n",
    "        old_torque = float(entry_old_torque.get())       # Torque when angle = 90°\n",
    "        current = float(entry_current.get())             # Current in A\n",
    "        turns = int(entry_turns.get())                   # Number of turns\n",
    "        length = float(entry_length.get())               # Vertical length in m\n",
    "        width = float(entry_width.get())                 # Horizontal width in m\n",
    "        new_angle = float(entry_angle.get())             # New angle in degrees\n",
    "\n",
    "        # Calculate area\n",
    "        area = length * width\n",
    "\n",
    "        # Calculate magnetic field from original torque\n",
    "        B = old_torque / (turns * current * area * np.sin(np.radians(90)))\n",
    "\n",
    "        # Calculate new torque at specified angle\n",
    "        new_torque = turns * B * current * area * np.sin(np.radians(new_angle))\n",
    "\n",
    "        # Show result\n",
    "        result_label.config(text=f\"New Torque at {new_angle}° = {new_torque:.6f} Nm\")\n",
    "    except Exception as e:\n",
    "        messagebox.showerror(\"Error\", f\"Something went wrong:\\n{e}\")\n",
    "\n",
    "# --- GUI Setup ---\n",
    "root = tk.Tk()\n",
    "root.title(\"Torque Calculator (Question 14.5)\")\n",
    "root.geometry(\"450x450\")\n",
    "\n",
    "tk.Label(root, text=\"Calculate New Torque\", font=(\"Arial\", 16)).pack(pady=10)\n",
    "\n",
    "def labeled_entry(parent, label):\n",
    "    frame = tk.Frame(parent)\n",
    "    frame.pack(pady=4)\n",
    "    tk.Label(frame, text=label, width=25, anchor=\"w\").pack(side=\"left\")\n",
    "    entry = tk.Entry(frame, width=15)\n",
    "    entry.pack(side=\"right\")\n",
    "    return entry\n",
    "\n",
    "entry_old_torque = labeled_entry(root, \"Original Torque (Nm):\")\n",
    "entry_current = labeled_entry(root, \"Current (A):\")\n",
    "entry_turns = labeled_entry(root, \"Number of Turns:\")\n",
    "entry_length = labeled_entry(root, \"Vertical Length (m):\")\n",
    "entry_width = labeled_entry(root, \"Horizontal Width (m):\")\n",
    "entry_angle = labeled_entry(root, \"New Angle (degrees):\")\n",
    "\n",
    "tk.Button(root, text=\"Calculate New Torque\", command=calculate_14_5).pack(pady=15)\n",
    "\n",
    "result_label = tk.Label(root, text=\"\", font=(\"Arial\", 12), fg=\"green\")\n",
    "result_label.pack(pady=10)\n",
    "\n",
    "root.mainloop()\n"
   ]
  },
  {
   "cell_type": "code",
   "execution_count": null,
   "id": "0ea1d801-e3b7-45cd-bab1-d092f5bf4778",
   "metadata": {},
   "outputs": [],
   "source": []
  },
  {
   "cell_type": "code",
   "execution_count": null,
   "id": "562cbf0e-9038-4bd3-ba57-1ea0ddd312e8",
   "metadata": {},
   "outputs": [],
   "source": []
  }
 ],
 "metadata": {
  "kernelspec": {
   "display_name": "Python [conda env:base] *",
   "language": "python",
   "name": "conda-base-py"
  },
  "language_info": {
   "codemirror_mode": {
    "name": "ipython",
    "version": 3
   },
   "file_extension": ".py",
   "mimetype": "text/x-python",
   "name": "python",
   "nbconvert_exporter": "python",
   "pygments_lexer": "ipython3",
   "version": "3.12.7"
  }
 },
 "nbformat": 4,
 "nbformat_minor": 5
}
